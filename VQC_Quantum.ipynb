{
 "cells": [
  {
   "cell_type": "markdown",
   "metadata": {},
   "source": [
    "\n",
    "# Quantum machine learning using variational quantum circuits."
   ]
  },
  {
   "cell_type": "markdown",
   "metadata": {},
   "source": [
    "## Libraries\n",
    "\n",
    "The set of libraries required to run the notebook"
   ]
  },
  {
   "cell_type": "code",
   "execution_count": 1,
   "metadata": {},
   "outputs": [],
   "source": [
    "\n",
    "from srcCode import dataManagement as dm\n",
    "import numpy as np\n",
    "from sklearn.model_selection import train_test_split\n",
    "from imblearn.over_sampling import SMOTE\n",
    "from imblearn.under_sampling import NearMiss\n"
   ]
  },
  {
   "cell_type": "markdown",
   "metadata": {},
   "source": [
    "\n",
    "## Handling the credit card dataset\n",
    "\n",
    "### Loading the dataset\n",
    "\n",
    "The first step is to load the dataset and split the content into feature space and class, so that it is easier to handle the information afterwards."
   ]
  },
  {
   "cell_type": "code",
   "execution_count": 2,
   "metadata": {},
   "outputs": [
    {
     "name": "stdout",
     "output_type": "stream",
     "text": [
      "            Time        V1        V2        V3        V4        V5        V6  \\\n",
      "0            0.0 -1.359807 -0.072781  2.536347  1.378155 -0.338321  0.462388   \n",
      "1            0.0  1.191857  0.266151  0.166480  0.448154  0.060018 -0.082361   \n",
      "...          ...       ...       ...       ...       ...       ...       ...   \n",
      "284805  172788.0 -0.240440  0.530483  0.702510  0.689799 -0.377961  0.623708   \n",
      "284806  172792.0 -0.533413 -0.189733  0.703337 -0.506271 -0.012546 -0.649617   \n",
      "\n",
      "              V7        V8        V9       V10       V11       V12       V13  \\\n",
      "0       0.239599  0.098698  0.363787  0.090794 -0.551600 -0.617801 -0.991390   \n",
      "1      -0.078803  0.085102 -0.255425 -0.166974  1.612727  1.065235  0.489095   \n",
      "...          ...       ...       ...       ...       ...       ...       ...   \n",
      "284805 -0.686180  0.679145  0.392087 -0.399126 -1.933849 -0.962886 -1.042082   \n",
      "284806  1.577006 -0.414650  0.486180 -0.915427 -1.040458 -0.031513 -0.188093   \n",
      "\n",
      "             V14       V15       V16       V17       V18       V19       V20  \\\n",
      "0      -0.311169  1.468177 -0.470401  0.207971  0.025791  0.403993  0.251412   \n",
      "1      -0.143772  0.635558  0.463917 -0.114805 -0.183361 -0.145783 -0.069083   \n",
      "...          ...       ...       ...       ...       ...       ...       ...   \n",
      "284805  0.449624  1.962563 -0.608577  0.509928  1.113981  2.897849  0.127434   \n",
      "284806 -0.084316  0.041333 -0.302620 -0.660377  0.167430 -0.256117  0.382948   \n",
      "\n",
      "             V21       V22       V23       V24       V25       V26       V27  \\\n",
      "0      -0.018307  0.277838 -0.110474  0.066928  0.128539 -0.189115  0.133558   \n",
      "1      -0.225775 -0.638672  0.101288 -0.339846  0.167170  0.125895 -0.008983   \n",
      "...          ...       ...       ...       ...       ...       ...       ...   \n",
      "284805  0.265245  0.800049 -0.163298  0.123205 -0.569159  0.546668  0.108821   \n",
      "284806  0.261057  0.643078  0.376777  0.008797 -0.473649 -0.818267 -0.002415   \n",
      "\n",
      "             V28  Amount  Class  \n",
      "0      -0.021053  149.62      0  \n",
      "1       0.014724    2.69      0  \n",
      "...          ...     ...    ...  \n",
      "284805  0.104533   10.00      0  \n",
      "284806  0.013649  217.00      0  \n",
      "\n",
      "[284807 rows x 31 columns]\n",
      "Fraud cases:  492\n",
      "Clean cases:  284315\n"
     ]
    }
   ],
   "source": [
    "\n",
    "# The dataset folder is included outside the workspace in a folder named datasets.\n",
    "datafile_fraud = \"../datasets/creditcard.csv\"\n",
    "start_index = 1\n",
    "end_index = 29\n",
    "class_index = 30\n",
    "xVals, yVals = dm.read_data(datafile_fraud, start_index=start_index, end_index=end_index, class_index=class_index, k_lines=4)\n",
    "\n",
    "# Fraud cases\n",
    "iFraud = yVals[yVals == 1]\n",
    "indexesFraud = list(iFraud.keys())\n",
    "\n",
    "# Clean cases\n",
    "iClean = yVals[yVals == 0]\n",
    "indexesClean = list(iClean.keys())\n",
    "\n",
    "print(\"Fraud cases: \", len(indexesFraud))\n",
    "print(\"Clean cases: \", len(indexesClean))\n",
    "\n",
    "# Shift label from {0, 1} to {-1, 1}\n",
    "yVals = yVals * 2 - np.ones(len(yVals))  # shift label from {0, 1} to {-1, 1}\n"
   ]
  },
  {
   "cell_type": "markdown",
   "metadata": {},
   "source": [
    "\n",
    "### Preparing the train and test set\n",
    "\n",
    "In order to balance the dataset a oversampling technique (SMOTE) is utilized in combination with an undersampling one (Near Miss). The sampling technique achieves a middle point where the newly sampled of the minority class cases and the undersampled cases of the majority class are equal without forcing one another."
   ]
  },
  {
   "cell_type": "code",
   "execution_count": 3,
   "metadata": {},
   "outputs": [
    {
     "name": "stdout",
     "output_type": "stream",
     "text": [
      "Before OverSampling, counts of label FRAUD('1') in the training set: 372\n",
      "Before OverSampling, counts of label CLEAN('0') in the training: 213233 \n",
      "\n",
      "After OverSampling, the shape of train_X: (223894, 28)\n",
      "After OverSampling, the shape of train_y: (223894,) \n",
      "\n",
      "After OverSampling, counts of label FRAUD('1'): 10661\n",
      "After OverSampling, counts of label CLEAN('0'): 213233\n",
      "After Undersampling, the shape of train_X: (21322, 28)\n",
      "After Undersampling, the shape of train_y: (21322,) \n",
      "\n",
      "After Undersampling, counts of label FRAUD('1'): 10661\n",
      "After Undersampling, counts of label CLEAN('0'): 10661\n"
     ]
    }
   ],
   "source": [
    "\n",
    "X_train, X_test, y_train, y_test = train_test_split(xVals, yVals, test_size = 0.25, random_state = 0)\n",
    "print(\"Before OverSampling, counts of label FRAUD('1') in the training set: {}\".format(sum(y_train == 1)))\n",
    "print(\"Before OverSampling, counts of label CLEAN('0') in the training: {} \\n\".format(sum(y_train == -1)))\n",
    "\n",
    "sm = SMOTE(sampling_strategy = 0.05, random_state = 6)\n",
    "X_train_os, y_train_os = sm.fit_resample(X_train, y_train.ravel())\n",
    "\n",
    "print('After OverSampling, the shape of train_X: {}'.format(X_train_os.shape))\n",
    "print('After OverSampling, the shape of train_y: {} \\n'.format(y_train_os.shape))\n",
    "  \n",
    "print(\"After OverSampling, counts of label FRAUD('1'): {}\".format(sum(y_train_os == 1)))\n",
    "print(\"After OverSampling, counts of label CLEAN('0'): {}\".format(sum(y_train_os == -1)))\n",
    "\n",
    "nr = NearMiss(sampling_strategy = 1.0)\n",
    "X_train_balanced, y_train_balanced = nr.fit_resample(X_train_os, y_train_os.ravel())\n",
    "\n",
    "print('After Undersampling, the shape of train_X: {}'.format(X_train_balanced.shape))\n",
    "print('After Undersampling, the shape of train_y: {} \\n'.format(y_train_balanced.shape))\n",
    "  \n",
    "print(\"After Undersampling, counts of label FRAUD('1'): {}\".format(sum(y_train_balanced == 1)))\n",
    "print(\"After Undersampling, counts of label CLEAN('0'): {}\".format(sum(y_train_balanced == -1)))\n"
   ]
  },
  {
   "cell_type": "markdown",
   "metadata": {},
   "source": [
    "## Training the quantum circuit"
   ]
  },
  {
   "cell_type": "code",
   "execution_count": 4,
   "metadata": {},
   "outputs": [
    {
     "name": "stdout",
     "output_type": "stream",
     "text": [
      "0        -1.0\n",
      "1        -1.0\n",
      "2        -1.0\n",
      "3        -1.0\n",
      "4        -1.0\n",
      "         ... \n",
      "284802   -1.0\n",
      "284803   -1.0\n",
      "284804   -1.0\n",
      "284805   -1.0\n",
      "284806   -1.0\n",
      "Name: Class, Length: 284807, dtype: float64\n"
     ]
    }
   ],
   "source": [
    "print(yVals)"
   ]
  },
  {
   "cell_type": "code",
   "execution_count": null,
   "metadata": {},
   "outputs": [],
   "source": []
  }
 ],
 "metadata": {
  "kernelspec": {
   "display_name": "Python 3.10.4 64-bit",
   "language": "python",
   "name": "python3"
  },
  "language_info": {
   "codemirror_mode": {
    "name": "ipython",
    "version": 3
   },
   "file_extension": ".py",
   "mimetype": "text/x-python",
   "name": "python",
   "nbconvert_exporter": "python",
   "pygments_lexer": "ipython3",
   "version": "3.10.4"
  },
  "orig_nbformat": 4,
  "vscode": {
   "interpreter": {
    "hash": "916dbcbb3f70747c44a77c7bcd40155683ae19c65e1c03b4aa3499c5328201f1"
   }
  }
 },
 "nbformat": 4,
 "nbformat_minor": 2
}
