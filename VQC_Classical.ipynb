{
 "cells": [
  {
   "cell_type": "markdown",
   "metadata": {},
   "source": [
    "\n",
    "# Quantum machine learning using variational quantum circuits."
   ]
  },
  {
   "cell_type": "markdown",
   "metadata": {},
   "source": [
    "## Libraries\n",
    "\n",
    "The set of libraries required to run the notebook"
   ]
  },
  {
   "cell_type": "code",
   "execution_count": 6,
   "metadata": {},
   "outputs": [],
   "source": [
    "\n",
    "from quantum_classical_circuits import dataManagement as dm\n",
    "from quantum_classical_circuits import quantum_circuits as qc\n",
    "import pennylane as qml\n",
    "import tensorflow as tf\n",
    "import numpy as np\n",
    "import pandas as pd\n",
    "import seaborn as sn\n",
    "import matplotlib.pyplot as plt\n",
    "from sklearn.model_selection import train_test_split\n",
    "from imblearn.over_sampling import SMOTE\n",
    "from imblearn.under_sampling import NearMiss\n"
   ]
  },
  {
   "cell_type": "markdown",
   "metadata": {},
   "source": [
    "\n",
    "## Handling the credit card dataset\n",
    "\n",
    "### Loading the dataset\n",
    "\n",
    "The first step is to load the dataset and split the content into feature space and class, so that it is easier to handle the information afterwards."
   ]
  },
  {
   "cell_type": "code",
   "execution_count": 7,
   "metadata": {},
   "outputs": [
    {
     "name": "stdout",
     "output_type": "stream",
     "text": [
      "            Time        V1        V2        V3        V4        V5        V6  \\\n",
      "0            0.0 -1.359807 -0.072781  2.536347  1.378155 -0.338321  0.462388   \n",
      "1            0.0  1.191857  0.266151  0.166480  0.448154  0.060018 -0.082361   \n",
      "...          ...       ...       ...       ...       ...       ...       ...   \n",
      "284805  172788.0 -0.240440  0.530483  0.702510  0.689799 -0.377961  0.623708   \n",
      "284806  172792.0 -0.533413 -0.189733  0.703337 -0.506271 -0.012546 -0.649617   \n",
      "\n",
      "              V7        V8        V9       V10       V11       V12       V13  \\\n",
      "0       0.239599  0.098698  0.363787  0.090794 -0.551600 -0.617801 -0.991390   \n",
      "1      -0.078803  0.085102 -0.255425 -0.166974  1.612727  1.065235  0.489095   \n",
      "...          ...       ...       ...       ...       ...       ...       ...   \n",
      "284805 -0.686180  0.679145  0.392087 -0.399126 -1.933849 -0.962886 -1.042082   \n",
      "284806  1.577006 -0.414650  0.486180 -0.915427 -1.040458 -0.031513 -0.188093   \n",
      "\n",
      "             V14       V15       V16       V17       V18       V19       V20  \\\n",
      "0      -0.311169  1.468177 -0.470401  0.207971  0.025791  0.403993  0.251412   \n",
      "1      -0.143772  0.635558  0.463917 -0.114805 -0.183361 -0.145783 -0.069083   \n",
      "...          ...       ...       ...       ...       ...       ...       ...   \n",
      "284805  0.449624  1.962563 -0.608577  0.509928  1.113981  2.897849  0.127434   \n",
      "284806 -0.084316  0.041333 -0.302620 -0.660377  0.167430 -0.256117  0.382948   \n",
      "\n",
      "             V21       V22       V23       V24       V25       V26       V27  \\\n",
      "0      -0.018307  0.277838 -0.110474  0.066928  0.128539 -0.189115  0.133558   \n",
      "1      -0.225775 -0.638672  0.101288 -0.339846  0.167170  0.125895 -0.008983   \n",
      "...          ...       ...       ...       ...       ...       ...       ...   \n",
      "284805  0.265245  0.800049 -0.163298  0.123205 -0.569159  0.546668  0.108821   \n",
      "284806  0.261057  0.643078  0.376777  0.008797 -0.473649 -0.818267 -0.002415   \n",
      "\n",
      "             V28  Amount  Class  \n",
      "0      -0.021053  149.62      0  \n",
      "1       0.014724    2.69      0  \n",
      "...          ...     ...    ...  \n",
      "284805  0.104533   10.00      0  \n",
      "284806  0.013649  217.00      0  \n",
      "\n",
      "[284807 rows x 31 columns]\n",
      "Fraud cases:  492\n",
      "Clean cases:  284315\n"
     ]
    }
   ],
   "source": [
    "\n",
    "# The dataset folder is included outside the workspace in a folder named datasets.\n",
    "datafile_fraud = \"../datasets/creditcard.csv\"\n",
    "start_index = 1\n",
    "end_index = 29\n",
    "class_index = 30\n",
    "xVals, yVals = dm.read_data(datafile_fraud, start_index=start_index, end_index=end_index, class_index=class_index, k_lines=4)\n",
    "\n",
    "# Fraud cases\n",
    "iFraud = yVals[yVals == 1]\n",
    "indexesFraud = list(iFraud.keys())\n",
    "\n",
    "# Clean cases\n",
    "iClean = yVals[yVals == 0]\n",
    "indexesClean = list(iClean.keys())\n",
    "\n",
    "print(\"Fraud cases: \", len(indexesFraud))\n",
    "print(\"Clean cases: \", len(indexesClean))\n",
    "\n",
    "# Shift label from {0, 1} to {-1, 1}\n",
    "# yVals = yVals * 2 - np.ones(len(yVals))  # shift label from {0, 1} to {-1, 1}\n"
   ]
  },
  {
   "cell_type": "markdown",
   "metadata": {},
   "source": [
    "\n",
    "### Preparing the train and test set\n",
    "\n",
    "In order to balance the dataset a oversampling technique (SMOTE) is utilized in combination with an undersampling one (Near Miss). The sampling technique achieves a middle point where the newly sampled of the minority class cases and the undersampled cases of the majority class are equal without forcing one another."
   ]
  },
  {
   "cell_type": "code",
   "execution_count": 8,
   "metadata": {},
   "outputs": [
    {
     "name": "stdout",
     "output_type": "stream",
     "text": [
      "Before OverSampling, counts of label FRAUD('1') in the training set: 372\n",
      "Before OverSampling, counts of label CLEAN('0') in the training: 213233 \n",
      "\n",
      "After OverSampling, the shape of train_X: (426466, 28)\n",
      "After OverSampling, the shape of train_y: (426466,) \n",
      "\n",
      "After OverSampling, counts of label FRAUD('1'): 213233\n",
      "After OverSampling, counts of label CLEAN('0'): 213233\n"
     ]
    }
   ],
   "source": [
    "\n",
    "X_train, X_test, y_train, y_test = train_test_split(xVals, yVals, test_size = 0.25, random_state = 0)\n",
    "print(\"Before OverSampling, counts of label FRAUD('1') in the training set: {}\".format(sum(y_train == 1)))\n",
    "print(\"Before OverSampling, counts of label CLEAN('0') in the training: {} \\n\".format(sum(y_train == 0)))\n",
    "\n",
    "sm = SMOTE(sampling_strategy = 1, random_state = 6)\n",
    "X_train_os, y_train_os = sm.fit_resample(X_train, y_train.ravel())\n",
    "\n",
    "print('After OverSampling, the shape of train_X: {}'.format(X_train_os.shape))\n",
    "print('After OverSampling, the shape of train_y: {} \\n'.format(y_train_os.shape))\n",
    "\n",
    "print(\"After OverSampling, counts of label FRAUD('1'): {}\".format(sum(y_train_os == 1)))\n",
    "print(\"After OverSampling, counts of label CLEAN('0'): {}\".format(sum(y_train_os == 0)))\n"
   ]
  },
  {
   "cell_type": "markdown",
   "metadata": {},
   "source": [
    "# Model: Classical dense layer for binary classification"
   ]
  },
  {
   "cell_type": "markdown",
   "metadata": {},
   "source": [
    "## Training the quantum circuit"
   ]
  },
  {
   "cell_type": "code",
   "execution_count": 9,
   "metadata": {},
   "outputs": [],
   "source": [
    "\n",
    "iterations = 10 # Number of iterations through the training set\n",
    "l_rate = 0.01 # Learning rate of the optimizer\n",
    "n_layers = 2\n",
    "n_qubits = 5\n",
    "n_operation = 3 # The rotation takes 3 variables\n",
    "# c_type = 'AE'\n",
    "x_dataset = tf.constant(X_train_os)\n",
    "y_dataset = tf.constant(y_train_os)\n"
   ]
  },
  {
   "cell_type": "code",
   "execution_count": 10,
   "metadata": {},
   "outputs": [
    {
     "name": "stdout",
     "output_type": "stream",
     "text": [
      "Epoch 1/10\n",
      "13328/13328 [==============================] - 21s 2ms/step - loss: 0.0196 - binary_accuracy: 0.9944 - precision_1: 0.9930 - recall_1: 0.9958\n",
      "Epoch 2/10\n",
      "13328/13328 [==============================] - 20s 1ms/step - loss: 0.0089 - binary_accuracy: 0.9980 - precision_1: 0.9971 - recall_1: 0.9989\n",
      "Epoch 3/10\n",
      "13328/13328 [==============================] - 20s 1ms/step - loss: 0.0077 - binary_accuracy: 0.9985 - precision_1: 0.9978 - recall_1: 0.9991\n",
      "Epoch 4/10\n",
      "13328/13328 [==============================] - 19s 1ms/step - loss: 0.0067 - binary_accuracy: 0.9988 - precision_1: 0.9982 - recall_1: 0.9993\n",
      "Epoch 5/10\n",
      "13328/13328 [==============================] - 18s 1ms/step - loss: 0.0070 - binary_accuracy: 0.9988 - precision_1: 0.9983 - recall_1: 0.9994\n",
      "Epoch 6/10\n",
      "13328/13328 [==============================] - 18s 1ms/step - loss: 0.0059 - binary_accuracy: 0.9989 - precision_1: 0.9985 - recall_1: 0.9994\n",
      "Epoch 7/10\n",
      "13328/13328 [==============================] - 18s 1ms/step - loss: 0.0054 - binary_accuracy: 0.9991 - precision_1: 0.9987 - recall_1: 0.9995\n",
      "Epoch 8/10\n",
      "13328/13328 [==============================] - 18s 1ms/step - loss: 0.0052 - binary_accuracy: 0.9991 - precision_1: 0.9987 - recall_1: 0.9995\n",
      "Epoch 9/10\n",
      "13328/13328 [==============================] - 18s 1ms/step - loss: 0.0055 - binary_accuracy: 0.9991 - precision_1: 0.9988 - recall_1: 0.9995\n",
      "Epoch 10/10\n",
      "13328/13328 [==============================] - 18s 1ms/step - loss: 0.0059 - binary_accuracy: 0.9992 - precision_1: 0.9988 - recall_1: 0.9996\n"
     ]
    }
   ],
   "source": [
    "\n",
    "dir_weights = \"./model_weights/classical_weights\" # Pretrained model weights\n",
    "# weight_shapes = {\"qcircuit_parameters\": [n_layers, n_qubits, n_operation]}\n",
    "input_features = 28\n",
    "units_l1 = 32\n",
    "units_l2 = 32\n",
    "load_weights = True\n",
    "history = None\n",
    "inputs = tf.keras.Input(shape=(28,), name='Input')\n",
    "clayer_1 = tf.keras.layers.Dense(units=units_l1, activation=\"relu\", name='Classical_1', kernel_initializer=tf.initializers.RandomNormal(seed=6))\n",
    "clayer_2 = tf.keras.layers.Dense(units=units_l2, activation=\"relu\", name='Classical_2', kernel_initializer=tf.initializers.RandomNormal(seed=6))\n",
    "clayer_3 = tf.keras.layers.Dense(units=1, activation=tf.keras.activations.sigmoid, name='Sigmoid', kernel_initializer=tf.initializers.RandomNormal(seed=6))\n",
    "\n",
    "# Functional diagram\n",
    "x = clayer_1(inputs)\n",
    "x = clayer_2(x)\n",
    "outputs = clayer_3(x)\n",
    "\n",
    "# Equivalent to:\n",
    "# model = tf.keras.models.Sequential([clayer_1, clayer_2, clayer_3])\n",
    "\n",
    "\n",
    "model = tf.keras.Model(inputs, outputs)\n",
    "model.compile(optimizer=tf.keras.optimizers.Adam(learning_rate=l_rate), loss=tf.keras.losses.BinaryCrossentropy(from_logits=False), metrics=[\"binary_accuracy\", tf.keras.metrics.Precision(), tf.keras.metrics.Recall()])\n",
    "\n",
    "if not load_weights:\n",
    "    history = model.fit(x_dataset, y_dataset, epochs=iterations)\n",
    "else:\n",
    "    history = model.fit(x_dataset[:1], y_dataset[:1], epochs=1, batch_size=100)\n",
    "    \n"
   ]
  },
  {
   "cell_type": "markdown",
   "metadata": {},
   "source": [
    "### Saving model weights for future use"
   ]
  },
  {
   "cell_type": "code",
   "execution_count": 11,
   "metadata": {},
   "outputs": [],
   "source": [
    "\n",
    "if load_weights:\n",
    "    model.load_weights(filepath=dir_weights)\n",
    "else:\n",
    "    model.save_weights(filepath=dir_weights)\n"
   ]
  },
  {
   "cell_type": "code",
   "execution_count": 12,
   "metadata": {},
   "outputs": [
    {
     "name": "stdout",
     "output_type": "stream",
     "text": [
      "{'loss': [0.019637171179056168, 0.008872521109879017, 0.00772359874099493, 0.006655370816588402, 0.006963359657675028, 0.00592015590518713, 0.005424752831459045, 0.005229257512837648, 0.005471888463944197, 0.005856597330421209], 'binary_accuracy': [0.9943794012069702, 0.9980021715164185, 0.9984641075134277, 0.9987900853157043, 0.9988205432891846, 0.9989166855812073, 0.9991206526756287, 0.9990925192832947, 0.9991323947906494, 0.9991629123687744], 'precision_1': [0.9930129647254944, 0.9970976710319519, 0.9978080987930298, 0.9982386231422424, 0.9982714056968689, 0.9984771609306335, 0.9986973404884338, 0.9986972808837891, 0.9987768530845642, 0.9987675547599792], 'recall_1': [0.995765209197998, 0.99891197681427, 0.9991230368614197, 0.9993434548377991, 0.9993715882301331, 0.9993575215339661, 0.9995450973510742, 0.9994888305664062, 0.9994888305664062, 0.9995591640472412]}\n"
     ]
    }
   ],
   "source": [
    "print(history.history)"
   ]
  },
  {
   "cell_type": "code",
   "execution_count": 13,
   "metadata": {},
   "outputs": [
    {
     "data": {
      "image/png": "[encoded data removed]",
      "text/plain": [
       "<Figure size 640x480 with 1 Axes>"
      ]
     },
     "metadata": {},
     "output_type": "display_data"
    }
   ],
   "source": [
    "\n",
    "if not load_weights:\n",
    "    plt.plot(history.history['binary_accuracy'])\n",
    "    plt.title('model metrics')\n",
    "    plt.ylabel('binary_accuracy')\n",
    "    plt.xlabel('epoch')\n",
    "    plt.legend(['train'], loc='upper right')\n",
    "    plot_dir = \"./plots/classic_ba.png\"\n",
    "    plt.savefig(fname=plot_dir)\n"
   ]
  },
  {
   "cell_type": "code",
   "execution_count": 14,
   "metadata": {},
   "outputs": [
    {
     "data": {
      "image/png": "[encoded data removed]",
      "text/plain": [
       "<Figure size 640x480 with 1 Axes>"
      ]
     },
     "metadata": {},
     "output_type": "display_data"
    }
   ],
   "source": [
    "\n",
    "if not load_weights:\n",
    "    plt.plot(history.history['loss'])\n",
    "    plt.title('model loss')\n",
    "    plt.ylabel('binary_crossentropy')\n",
    "    plt.xlabel('epoch')\n",
    "    plt.legend(['train'], loc='upper right')\n",
    "    plot_dir = \"./plots/classic_loss.png\"\n",
    "    plt.savefig(fname=plot_dir)\n"
   ]
  },
  {
   "cell_type": "markdown",
   "metadata": {},
   "source": [
    "## Testing the quantum circuit"
   ]
  },
  {
   "cell_type": "code",
   "execution_count": 15,
   "metadata": {},
   "outputs": [],
   "source": [
    "\n",
    "x_dataset_test = tf.constant(X_test)\n",
    "y_dataset_test = tf.constant(y_test)\n",
    "x_test_fraud = x_dataset_test[y_dataset_test == 1]\n",
    "y_test_fraud = y_dataset_test[y_dataset_test == 1]\n",
    "balanced_test_cases = x_test_fraud.shape[0]\n",
    "x_test_clean = x_dataset_test[y_dataset_test == 0][:balanced_test_cases]\n",
    "y_test_clean = y_dataset_test[y_dataset_test == 0][:balanced_test_cases]\n"
   ]
  },
  {
   "cell_type": "code",
   "execution_count": 16,
   "metadata": {},
   "outputs": [
    {
     "name": "stdout",
     "output_type": "stream",
     "text": [
      "2226/2226 [==============================] - 3s 1ms/step - loss: 0.0548 - binary_accuracy: 0.9989 - precision_1: 0.6258 - recall_1: 0.8500\n"
     ]
    },
    {
     "data": {
      "text/plain": [
       "{'loss': 0.054786987602710724,\n",
       " 'binary_accuracy': 0.9988904595375061,\n",
       " 'precision_1': 0.6257668733596802,\n",
       " 'recall_1': 0.8500000238418579}"
      ]
     },
     "execution_count": 16,
     "metadata": {},
     "output_type": "execute_result"
    }
   ],
   "source": [
    "\n",
    "test_size = -1\n",
    "x_dataset_test = tf.constant(X_test)[:test_size]\n",
    "y_dataset_test = tf.constant(y_test)[:test_size]\n",
    "result = model.evaluate(x=x_dataset_test, y=y_dataset_test)\n",
    "dict(zip(model.metrics_names, result))\n"
   ]
  },
  {
   "cell_type": "code",
   "execution_count": 17,
   "metadata": {},
   "outputs": [
    {
     "name": "stdout",
     "output_type": "stream",
     "text": [
      "4/4 [==============================] - 0s 5ms/step\n",
      "4/4 [==============================] - 0s 1ms/step\n"
     ]
    }
   ],
   "source": [
    "\n",
    "predictions_fraud = model.predict(x=x_test_fraud)\n",
    "predictions_clean = model.predict(x=x_test_clean)\n"
   ]
  },
  {
   "cell_type": "code",
   "execution_count": 18,
   "metadata": {},
   "outputs": [
    {
     "data": {
      "image/png": "[encoded data removed]",
      "text/plain": [
       "<Figure size 640x480 with 2 Axes>"
      ]
     },
     "metadata": {},
     "output_type": "display_data"
    }
   ],
   "source": [
    "\n",
    "dir_conf_mat = \"./plots/classical.png\"\n",
    "\n",
    "fraud_vector = np.ones(balanced_test_cases)\n",
    "clean_vector = np.zeros(balanced_test_cases)\n",
    "\n",
    "p_fraud_vector = np.ones(balanced_test_cases)\n",
    "p_clean_vector = np.zeros(balanced_test_cases)\n",
    "\n",
    "for i in range(balanced_test_cases):\n",
    "    if predictions_fraud[i] < 0.5 :\n",
    "        p_fraud_vector[i] = 0\n",
    "    if predictions_clean[i] > 0.5 :\n",
    "        p_clean_vector[i] = 1\n",
    "\n",
    "y_true = np.concatenate([fraud_vector, clean_vector], dtype=int, casting=\"unsafe\")\n",
    "y_pred = np.concatenate([p_fraud_vector, p_clean_vector], dtype=int, casting=\"unsafe\")\n",
    "data_cols = {\"Labels\" : y_true, \"Predictions\" : y_pred}\n",
    "df = pd.DataFrame(data_cols, columns=[\"Labels\", \"Predictions\"])\n",
    "confusion_matrix = pd.crosstab(df[\"Labels\"], df[\"Predictions\"], rownames=[\"Labels\"], colnames=[\"Predictions\"])\n",
    "sn.heatmap(confusion_matrix, annot=True, linewidths=.5, fmt=\"d\")\n",
    "plt.savefig(fname=dir_conf_mat)\n",
    "plt.show()\n"
   ]
  },
  {
   "cell_type": "markdown",
   "metadata": {},
   "source": [
    "## Plots\n",
    "\n",
    "Plots help visualize the specific distance between the desired value (eigenvalue +1 or -1) and the predicted value."
   ]
  },
  {
   "cell_type": "code",
   "execution_count": null,
   "metadata": {},
   "outputs": [],
   "source": [
    "\n",
    "from turtle import color\n",
    "\n",
    "\n",
    "pfraud_points = p_fraud_vector.shape[0]\n",
    "pclean_points = p_clean_vector.shape[0]\n",
    "\n",
    "bottom_val = -1.5\n",
    "top_val = 1.5\n",
    "x_left = -0.5\n",
    "x_right = pfraud_points + 0.5\n",
    "\n",
    "x_fraud = np.linspace(0, pfraud_points, pfraud_points)\n",
    "x_clean = np.linspace(0, pclean_points, pclean_points)\n",
    "\n",
    "positive_line = np.full(shape=pfraud_points, fill_value=1)\n",
    "middle_line = np.full(shape=pfraud_points, fill_value=0.5)\n",
    "negative_line = np.full(shape=pclean_points, fill_value=0)\n",
    "\n",
    "fig, axs = plt.subplots(2, 1, figsize=(10,5))\n",
    "\n",
    "axs[0].scatter(x_fraud, p_fraud_vector, c='r')\n",
    "axs[0].plot(x_fraud, positive_line, color='g', linestyle=\"dashed\", label=\"Fraud\")\n",
    "axs[0].plot(x_fraud, middle_line, color='y', linestyle=\"-.\")\n",
    "axs[0].plot(x_fraud, negative_line, color='k', linestyle=\"dashed\")\n",
    "axs[0].set_title('Fraud cases')\n",
    "axs[0].set_yticks([0.0, 0.25, 0.5, 0.75, 1.0])\n",
    "axs[0].set_xlim(x_left, x_right)\n",
    "axs[0].set_ylim(bottom_val, top_val)\n",
    "axs[0].set_xticks([])\n",
    "axs[0].legend(loc='lower right')\n",
    "\n",
    "axs[1].scatter(x_clean, p_clean_vector, c='r')\n",
    "axs[1].plot(x_clean, positive_line, color='k', linestyle=\"dashed\")\n",
    "axs[1].plot(x_clean, middle_line, color='y', linestyle=\"-.\")\n",
    "axs[1].plot(x_clean, negative_line, color='g', linestyle=\"dashed\", label=\"Valid\")\n",
    "axs[1].set_title('Valid cases')\n",
    "axs[1].set_yticks([0.0, 0.25, 0.5, 0.75, 1.0])\n",
    "axs[1].set_xlim(x_left, x_right)\n",
    "axs[1].set_ylim(bottom_val, top_val)\n",
    "axs[1].set_xticks([])\n",
    "axs[1].legend(loc='lower right')\n",
    "\n",
    "plot_dir = \"./plots/hybrid_seq_scatter.png\"\n",
    "plt.savefig(fname=plot_dir)\n"
   ]
  },
  {
   "cell_type": "markdown",
   "metadata": {},
   "source": [
    "## Visualizing the model"
   ]
  },
  {
   "cell_type": "code",
   "execution_count": null,
   "metadata": {},
   "outputs": [],
   "source": [
    "\n",
    "dir_qcircuit_image = \"./model_diagrams/hybrid_seq.png\"\n",
    "tf.keras.utils.plot_model(model=model, to_file=dir_qcircuit_image, show_shapes=True)\n"
   ]
  },
  {
   "cell_type": "code",
   "execution_count": null,
   "metadata": {},
   "outputs": [],
   "source": [
    "\n",
    "circuit_dir = \"./model_diagrams/qcircuit_ae_qgates_hs.png\"\n",
    "fig, ax = qml.draw_mpl(qc.qcircuit_amplitude_embedding_kl, decimals = 2)(x_dataset[0], model.layers[1].weights[0])\n",
    "plt.savefig(fname=circuit_dir)\n"
   ]
  },
  {
   "cell_type": "code",
   "execution_count": null,
   "metadata": {},
   "outputs": [],
   "source": []
  }
 ],
 "metadata": {
  "kernelspec": {
   "display_name": "Python 3.10.4 64-bit",
   "language": "python",
   "name": "python3"
  },
  "language_info": {
   "codemirror_mode": {
    "name": "ipython",
    "version": 3
   },
   "file_extension": ".py",
   "mimetype": "text/x-python",
   "name": "python",
   "nbconvert_exporter": "python",
   "pygments_lexer": "ipython3",
   "version": "3.10.4"
  },
  "orig_nbformat": 4,
  "vscode": {
   "interpreter": {
    "hash": "916dbcbb3f70747c44a77c7bcd40155683ae19c65e1c03b4aa3499c5328201f1"
   }
  }
 },
 "nbformat": 4,
 "nbformat_minor": 2
}
